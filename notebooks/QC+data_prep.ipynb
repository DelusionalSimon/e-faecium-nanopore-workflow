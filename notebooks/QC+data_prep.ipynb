{
 "cells": [
  {
   "cell_type": "markdown",
   "id": "246bf566",
   "metadata": {},
   "source": [
    "# Run quality control and data preperation on fastq nanodrop data\n",
    "This is an initial step before sending the prepared data over to the HPC"
   ]
  },
  {
   "cell_type": "code",
   "execution_count": null,
   "id": "308ece0b",
   "metadata": {},
   "outputs": [],
   "source": [
    "#-------------[ IMPORTS ]-------------\n",
    "import yaml\n",
    "import os"
   ]
  },
  {
   "cell_type": "code",
   "execution_count": null,
   "id": "6ac35941",
   "metadata": {},
   "outputs": [],
   "source": [
    "#-------------[ CONFIG ]-------------\n",
    "# Get the path to the config file\n",
    "config_path = os.path.join('..', 'config.yaml')\n",
    "\n",
    "# Load configurations from the yaml file\n",
    "with open(config_path, 'r') as f:\n",
    "    config = yaml.safe_load(f)\n",
    "print(\"Configuration loaded successfully.\")\n",
    "\n",
    "# Get the raw file path from the loaded config\n",
    "raw_fastq_path = config['raw_fastq_path']\n",
    "print(f\"the raw fastq path is: {raw_fastq_path}\")"
   ]
  },
  {
   "cell_type": "code",
   "execution_count": null,
   "id": "f5f9c8c8",
   "metadata": {},
   "outputs": [],
   "source": []
  }
 ],
 "metadata": {
  "kernelspec": {
   "display_name": "efaecium_env_tests",
   "language": "python",
   "name": "python3"
  },
  "language_info": {
   "codemirror_mode": {
    "name": "ipython",
    "version": 3
   },
   "file_extension": ".py",
   "mimetype": "text/x-python",
   "name": "python",
   "nbconvert_exporter": "python",
   "pygments_lexer": "ipython3",
   "version": "3.9.23"
  }
 },
 "nbformat": 4,
 "nbformat_minor": 5
}
