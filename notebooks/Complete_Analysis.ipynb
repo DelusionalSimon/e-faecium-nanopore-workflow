{
 "cells": [
  {
   "cell_type": "markdown",
   "id": "246bf566",
   "metadata": {},
   "source": [
    "# E. faecium nanopore workflow\n",
    "This notebook details the whole project, with a guide for the HPC parts"
   ]
  },
  {
   "cell_type": "code",
   "execution_count": null,
   "id": "308ece0b",
   "metadata": {},
   "outputs": [],
   "source": [
    "#-------------[ IMPORTS ]-------------\n",
    "import yaml\n",
    "import os"
   ]
  },
  {
   "cell_type": "code",
   "execution_count": null,
   "id": "6ac35941",
   "metadata": {},
   "outputs": [],
   "source": [
    "#-------------[ CONFIG ]-------------\n",
    "# Get the path to the config file\n",
    "config_path = os.path.join('..', 'config.yaml')\n",
    "\n",
    "# Load configurations from the yaml file\n",
    "with open(config_path, 'r') as f:\n",
    "    config = yaml.safe_load(f)\n",
    "print(\"Configuration loaded successfully.\")\n",
    "\n",
    "# Get the raw file path\n",
    "raw_fastq_path = os.path.join('..',config['raw_fastq_path'])\n",
    "print(f\"the raw fastq path is: {raw_fastq_path}\")\n",
    "\n",
    "# Get the Fastplong output path and proccesed file path\n",
    "fastplong_output_path = os.path.join('..', config['fastplong_output_path'])\n",
    "fastplong_html_path = os.path.join(fastplong_output_path, 'fastplong_report.html')\n",
    "fastplong_json_path = os.path.join(fastplong_output_path, 'fastplong_report.json')\n",
    "print(f\"The Fastplong output path is: {fastplong_output_path}\")\n",
    "fastplong_filtered_path = os.path.join('..', config['fastplong_filtered_path'])\n",
    "print(f\"The Fastplong filtered path is: {fastplong_filtered_path}\")\n",
    "\n",
    "# Get the MultiQC input and output path\n",
    "multiqc_input_path = os.path.join('..', config['multiqc_input_path'])\n",
    "print(f\"The MultiQC input path is: {multiqc_input_path}\")\n",
    "multiqc_output_path = os.path.join('..', config['multiqc_output_path'])\n",
    "print(f\"The MultiQC output path is: {multiqc_output_path}\")\n",
    "\n",
    "# Get the Bakta database path and input genome path\n",
    "bakta_db_path = os.path.join('..', config['bakta_db_path'])\n",
    "print(f\"The Bakta database path is: {bakta_db_path}\")\n",
    "bakta_input_path = os.path.join('..', config['bakta_input_path'])\n",
    "print(f\"The Bakta input genome path is: {bakta_input_path}\")\n",
    "bakta_output_path = os.path.join('..', config['bakta_output_path'])\n",
    "print(f\"The Bakta output path is: {bakta_output_path}\")\n",
    "\n",
    "\n"
   ]
  },
  {
   "cell_type": "markdown",
   "id": "75fef704",
   "metadata": {},
   "source": [
    "## Initial processing and quality control"
   ]
  },
  {
   "cell_type": "code",
   "execution_count": null,
   "id": "c72d2454",
   "metadata": {},
   "outputs": [],
   "source": [
    "#-------------[ FASTPLONG ANALYSIS ]-------------\n",
    "# make output directory if it doesn't exist\n",
    "!mkdir -p {fastplong_output_path}\n",
    "\n",
    "# Run Fastplong to filter and generate reports\n",
    "!fastplong \\\n",
    "  -i {raw_fastq_path} \\\n",
    "  -o {fastplong_filtered_path} \\\n",
    "  -h {fastplong_html_path} \\\n",
    "  -j {fastplong_json_path}"
   ]
  },
  {
   "cell_type": "code",
   "execution_count": null,
   "id": "45a9184f",
   "metadata": {},
   "outputs": [],
   "source": [
    "#-------------[ INITIAL MULTIQC ]-------------\n",
    "\n",
    "!multiqc {multiqc_input_path} \\\n",
    "    --title \"Initial QC\" \\\n",
    "    --filename \"initial_QC\" \\\n",
    "    --outdir {multiqc_output_path} \\\n",
    "    --dirs --dirs-depth 2 --force"
   ]
  },
  {
   "cell_type": "markdown",
   "id": "d16553cf",
   "metadata": {},
   "source": [
    "Let's move over to the cluster to run Kraken2, Flye, and QUAST"
   ]
  },
  {
   "cell_type": "markdown",
   "id": "929544ef",
   "metadata": {},
   "source": [
    "## High Performance Cluster: Contmination Check and Assembly \n",
    "Certain resource intensive tasks or those that take huge databases are better run on a HPC\n"
   ]
  },
  {
   "cell_type": "markdown",
   "id": "905c7c54",
   "metadata": {},
   "source": [
    "//TODO: Detail HPC work here To "
   ]
  },
  {
   "cell_type": "markdown",
   "id": "8149c9fa",
   "metadata": {},
   "source": [
    "## Annotation\n",
    "We will perform a final round of polishing using medaka to ensure our genes are nice before running bakta to annotate our genome"
   ]
  },
  {
   "cell_type": "code",
   "execution_count": null,
   "id": "7a98dd96",
   "metadata": {},
   "outputs": [],
   "source": [
    "#-------------[ MULTIQC REPORT POST HPC  ]-------------\n",
    "!multiqc {multiqc_input_path} \\\n",
    "    --title \"Post_HPC_QC\" \\\n",
    "    --filename \"Post_HPC_QC\" \\\n",
    "    --outdir {multiqc_output_path} \\\n",
    "    --dirs --dirs-depth 2 --force"
   ]
  },
  {
   "cell_type": "code",
   "execution_count": null,
   "id": "b0c39aa4",
   "metadata": {},
   "outputs": [],
   "source": [
    "#-------------[ BAKTA ANALYSIS  ]-------------\n",
    "!bakta  --db {bakta_db_path} \\\n",
    "        --verbose \\\n",
    "        --output {bakta_output_path} \\\n",
    "        --threads 8 \\\n",
    "        {bakta_input_path}\n"
   ]
  }
 ],
 "metadata": {
  "kernelspec": {
   "display_name": "efaecium_env",
   "language": "python",
   "name": "python3"
  },
  "language_info": {
   "codemirror_mode": {
    "name": "ipython",
    "version": 3
   },
   "file_extension": ".py",
   "mimetype": "text/x-python",
   "name": "python",
   "nbconvert_exporter": "python",
   "pygments_lexer": "ipython3",
   "version": "3.9.23"
  }
 },
 "nbformat": 4,
 "nbformat_minor": 5
}
